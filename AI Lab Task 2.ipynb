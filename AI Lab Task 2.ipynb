{
  "nbformat": 4,
  "nbformat_minor": 0,
  "metadata": {
    "colab": {
      "provenance": []
    },
    "kernelspec": {
      "name": "python3",
      "display_name": "Python 3"
    },
    "language_info": {
      "name": "python"
    }
  },
  "cells": [
    {
      "cell_type": "code",
      "execution_count": 8,
      "metadata": {
        "colab": {
          "base_uri": "https://localhost:8080/"
        },
        "id": "qAHIvYleBSPp",
        "outputId": "6114caec-f5a6-48bd-e9c1-9059611252e6"
      },
      "outputs": [
        {
          "output_type": "stream",
          "name": "stdout",
          "text": [
            "First 10 numbers: [1, 2, 3, 4, 5, 6, 7, 8, 9, 10]\n",
            "Maximum number: 10\n",
            "Minimum number: 1\n",
            "[1, 2, 3000, 5, 6, 7, 8, 9, 10, 20]\n"
          ]
        }
      ],
      "source": [
        "numbers = [1, 2, 3, 4, 5, 6, 7, 8, 9, 10]\n",
        "\n",
        "print(\"First 10 numbers:\", numbers)\n",
        "\n",
        "maximum = max(numbers)\n",
        "minimum = min(numbers)\n",
        "\n",
        "print(\"Maximum number:\", maximum)\n",
        "print(\"Minimum number:\", minimum)\n",
        "\n",
        "numbers.append(20)\n",
        "numbers.remove(3)\n",
        "numbers[2] = 3000;\n",
        "print(numbers);"
      ]
    },
    {
      "cell_type": "code",
      "source": [
        "my_tuple = (\"apple\", \"banana\", \"cherry\", \"orange\", \"grapes\")\n",
        "print(\"Tuple:\", my_tuple)\n",
        "\n",
        "my_list = list(my_tuple)\n",
        "print(\"Converted List:\", my_list)\n",
        "\n",
        "my_list[1] = \"grapes\"\n",
        "print(my_list)\n"
      ],
      "metadata": {
        "colab": {
          "base_uri": "https://localhost:8080/"
        },
        "id": "cB10J0wQCIdQ",
        "outputId": "3c9b5733-8145-4718-9f51-3a852d2c5343"
      },
      "execution_count": 10,
      "outputs": [
        {
          "output_type": "stream",
          "name": "stdout",
          "text": [
            "Tuple: ('apple', 'banana', 'cherry', 'orange', 'grapes')\n",
            "Converted List: ['apple', 'banana', 'cherry', 'orange', 'grapes']\n",
            "['apple', 'grapes', 'cherry', 'orange', 'grapes']\n"
          ]
        }
      ]
    },
    {
      "cell_type": "markdown",
      "source": [
        "ist\n"
      ],
      "metadata": {
        "id": "QNEXlLAxCNb-"
      }
    },
    {
      "cell_type": "markdown",
      "source": [
        "Mataplotlib\n"
      ],
      "metadata": {
        "id": "0Zj27iRrB-QT"
      }
    },
    {
      "cell_type": "markdown",
      "source": [
        "Numpy"
      ],
      "metadata": {
        "id": "FoSB-Q0hCFbA"
      }
    },
    {
      "cell_type": "markdown",
      "source": [
        "tuple"
      ],
      "metadata": {
        "id": "MFcPUcF5CSB7"
      }
    },
    {
      "cell_type": "code",
      "source": [
        "my_tuple = (\"apple\", \"banana\", \"cherry\", \"orange\", \"grapes\")\n",
        "print(\"Tuple:\", my_tuple)\n",
        "print(\"First element:\", my_tuple[0])\n",
        "print(\"Last element:\", my_tuple[-1])\n",
        "\n",
        "temp_list = list(my_tuple)\n",
        "temp_list[1] = \"mango\"\n",
        "my_tuple = tuple(temp_list)\n",
        "print(\"Updated Tuple:\", my_tuple)\n"
      ],
      "metadata": {
        "id": "-HC62x8uYXQo"
      },
      "execution_count": null,
      "outputs": []
    },
    {
      "cell_type": "markdown",
      "source": [
        "set"
      ],
      "metadata": {
        "id": "afJs3L5ACU22"
      }
    },
    {
      "cell_type": "code",
      "source": [
        "set_a = {1, 2, 3, 4, 5}\n",
        "set_b = {4, 5, 6, 7, 8}\n",
        "\n",
        "union_set = set_a | set_b\n",
        "intersection_set = set_a & set_b\n",
        "difference_set = set_a - set_b\n",
        "\n",
        "\n",
        "print(\"Union:\", union_set)\n",
        "print(\"Intersection:\", intersection_set)\n",
        "print(\"Difference (A - B):\", difference_set)\n",
        "\n",
        "\n",
        "set_a.add(10)\n",
        "set_a.remove(2)\n",
        "\n",
        "print(\"Updated set_a:\", set_a)\n"
      ],
      "metadata": {
        "id": "Ku5-QFRKS5gQ"
      },
      "execution_count": null,
      "outputs": []
    },
    {
      "cell_type": "markdown",
      "source": [],
      "metadata": {
        "id": "vn4UU5z5UXer"
      }
    },
    {
      "cell_type": "markdown",
      "source": [
        "Dictionary"
      ],
      "metadata": {
        "id": "7Qy2DV2GCY_z"
      }
    },
    {
      "cell_type": "code",
      "source": [
        "student = {\n",
        "    \"name\": \"Hassan\",\n",
        "    \"age\": 20,\n",
        "    \"course\": \"Computer Science\",\n",
        "    \"roll_no\": 101,\n",
        "    \"grade\": \"A\"\n",
        "}\n",
        "\n",
        "print(\"Dictionary:\", student)\n",
        "print(\"Name:\", student[\"name\"])\n",
        "print(\"Age:\", student[\"age\"])\n",
        "print(\"Course:\", student[\"course\"])\n",
        "print(\"Roll No:\", student[\"roll_no\"])\n",
        "print(\"Grade:\", student[\"grade\"])  # corrected this line\n",
        "\n",
        "# Example of updating one value\n",
        "student[\"age\"] = 21\n",
        "print(\"Updated Age:\", student[\"age\"])\n"
      ],
      "metadata": {
        "colab": {
          "base_uri": "https://localhost:8080/"
        },
        "id": "mmDXDTglVBT3",
        "outputId": "62af69ea-9aa1-45e6-cbff-1239c0492677"
      },
      "execution_count": 13,
      "outputs": [
        {
          "output_type": "stream",
          "name": "stdout",
          "text": [
            "Dictionary: {'name': 'Hassan', 'age': 20, 'course': 'Computer Science', 'roll_no': 101, 'grade': 'A'}\n",
            "Name: Hassan\n",
            "Age: 20\n",
            "Course: Computer Science\n",
            "Roll No: 101\n",
            "Grade: A\n",
            "Updated Age: 21\n"
          ]
        }
      ]
    }
  ]
}