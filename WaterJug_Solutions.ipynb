{
  "cells": [
    {
      "cell_type": "markdown",
      "id": "e9cea4d8",
      "metadata": {
        "id": "e9cea4d8"
      },
      "source": [
        "\n",
        "# Water Jug Problem using Search Algorithms\n",
        "\n",
        "### Objective:\n",
        "Implement BFS, DFS, and A* search algorithms to solve the classic **Water Jug Problem**.\n",
        "\n",
        "- Jug1 capacity = 4 liters  \n",
        "- Jug2 capacity = 3 liters  \n",
        "- Goal = Measure exactly 2 liters  \n"
      ]
    },
    {
      "cell_type": "code",
      "execution_count": null,
      "id": "727b79b1",
      "metadata": {
        "colab": {
          "base_uri": "https://localhost:8080/"
        },
        "id": "727b79b1",
        "outputId": "1301e77e-8189-40f7-96b6-101f19abad8e"
      },
      "outputs": [
        {
          "name": "stdout",
          "output_type": "stream",
          "text": [
            "BFS Solution path:\n",
            "(0, 0)\n",
            "(4, 0)\n",
            "(1, 3)\n"
          ]
        }
      ],
      "source": [
        "\n",
        "from collections import deque\n",
        "\n",
        "JUG1 = 4\n",
        "JUG2 = 3\n",
        "GOAL = 1\n",
        "\n",
        "def water_jug_bfs():\n",
        "    start = (0, 0)\n",
        "    visited = set()\n",
        "    queue = deque([[start]])\n",
        "\n",
        "    while queue:\n",
        "        path = queue.popleft()\n",
        "        state = path[-1]\n",
        "\n",
        "        if state[0] == GOAL or state[1] == GOAL:\n",
        "            return path\n",
        "\n",
        "        if state in visited:\n",
        "            continue\n",
        "        visited.add(state)\n",
        "\n",
        "        x, y = state\n",
        "\n",
        "        next_states = [\n",
        "            (JUG1, y),\n",
        "            (x, JUG2),\n",
        "            (0, y),\n",
        "            (x, 0),\n",
        "            (x - min(x, JUG2 - y), y + min(x, JUG2 - y)),\n",
        "            (x + min(y, JUG1 - x), y - min(y, JUG1 - x))\n",
        "        ]\n",
        "\n",
        "        for nxt in next_states:\n",
        "            if nxt not in visited:\n",
        "                new_path = list(path)\n",
        "                new_path.append(nxt)\n",
        "                queue.append(new_path)\n",
        "    return None\n",
        "\n",
        "solution = water_jug_bfs()\n",
        "print(\"BFS Solution path:\")\n",
        "for step in solution:\n",
        "    print(step)\n"
      ]
    },
    {
      "cell_type": "code",
      "execution_count": null,
      "id": "214f9021",
      "metadata": {
        "colab": {
          "base_uri": "https://localhost:8080/"
        },
        "id": "214f9021",
        "outputId": "2dbdf843-d7d0-413c-decf-a24894f63d25"
      },
      "outputs": [
        {
          "name": "stdout",
          "output_type": "stream",
          "text": [
            "DFS Solution path:\n",
            "(0, 0)\n",
            "(0, 3)\n",
            "(3, 0)\n",
            "(3, 3)\n",
            "(4, 2)\n",
            "(4, 0)\n",
            "(1, 3)\n"
          ]
        }
      ],
      "source": [
        "\n",
        "def water_jug_dfs():\n",
        "    start = (0, 0)\n",
        "    stack = [[start]]\n",
        "    visited = set()\n",
        "\n",
        "    while stack:\n",
        "        path = stack.pop()\n",
        "        state = path[-1]\n",
        "\n",
        "        if state[0] == GOAL or state[1] == GOAL:\n",
        "            return path\n",
        "\n",
        "        if state in visited:\n",
        "            continue\n",
        "        visited.add(state)\n",
        "\n",
        "        x, y = state\n",
        "\n",
        "        next_states = [\n",
        "            (JUG1, y),\n",
        "            (x, JUG2),\n",
        "            (0, y),\n",
        "            (x, 0),\n",
        "            (x - min(x, JUG2 - y), y + min(x, JUG2 - y)),\n",
        "            (x + min(y, JUG1 - x), y - min(y, JUG1 - x))\n",
        "        ]\n",
        "\n",
        "        for nxt in next_states:\n",
        "            if nxt not in visited:\n",
        "                new_path = list(path)\n",
        "                new_path.append(nxt)\n",
        "                stack.append(new_path)\n",
        "    return None\n",
        "\n",
        "solution = water_jug_dfs()\n",
        "print(\"DFS Solution path:\")\n",
        "for step in solution:\n",
        "    print(step)\n"
      ]
    },
    {
      "cell_type": "code",
      "execution_count": null,
      "id": "eda8479f",
      "metadata": {
        "colab": {
          "base_uri": "https://localhost:8080/"
        },
        "id": "eda8479f",
        "outputId": "361c8f19-8401-48ae-dd49-8784d31c0fe8"
      },
      "outputs": [
        {
          "name": "stdout",
          "output_type": "stream",
          "text": [
            "A* Solution path:\n",
            "(0, 0)\n",
            "(4, 0)\n",
            "(1, 3)\n"
          ]
        }
      ],
      "source": [
        "\n",
        "import heapq\n",
        "\n",
        "def heuristic(state):\n",
        "    x, y = state\n",
        "    return min(abs(x - GOAL), abs(y - GOAL))\n",
        "\n",
        "def a_star_water_jug():\n",
        "    start = (0, 0)\n",
        "    open_list = []\n",
        "    heapq.heappush(open_list, (heuristic(start), 0, [start]))\n",
        "    visited = {}\n",
        "\n",
        "    while open_list:\n",
        "        f, g, path = heapq.heappop(open_list)\n",
        "        state = path[-1]\n",
        "\n",
        "        if state[0] == GOAL or state[1] == GOAL:\n",
        "            return path\n",
        "\n",
        "        if state in visited and visited[state] <= g:\n",
        "            continue\n",
        "        visited[state] = g\n",
        "\n",
        "        x, y = state\n",
        "        next_states = [\n",
        "            (JUG1, y),\n",
        "            (x, JUG2),\n",
        "            (0, y),\n",
        "            (x, 0),\n",
        "            (x - min(x, JUG2 - y), y + min(x, JUG2 - y)),\n",
        "            (x + min(y, JUG1 - x), y - min(y, JUG1 - x))\n",
        "        ]\n",
        "\n",
        "        for nxt in next_states:\n",
        "            if nxt not in visited or g + 1 < visited.get(nxt, float('inf')):\n",
        "                new_path = list(path)\n",
        "                new_path.append(nxt)\n",
        "                new_g = g + 1\n",
        "                new_f = new_g + heuristic(nxt)\n",
        "                heapq.heappush(open_list, (new_f, new_g, new_path))\n",
        "\n",
        "solution = a_star_water_jug()\n",
        "print(\"A* Solution path:\")\n",
        "for step in solution:\n",
        "    print(step)\n"
      ]
    },
    {
      "cell_type": "markdown",
      "id": "6a3b4d92",
      "metadata": {
        "id": "6a3b4d92"
      },
      "source": [
        "\n",
        "### Reflection Questions:\n",
        "1. Compare the solution paths found by BFS, DFS, and A*.\n",
        "BFS (Breadth-First Search): The solution path was (0, 0) → (4, 0) → (1, 3). BFS explores level by level and guarantees the shortest path in terms of the number of steps.\n",
        "\n",
        "DFS (Depth-First Search): The solution path was (0, 0) → (0, 3) → (3, 0) → (3, 3) → (4, 2) → (4, 0) → (1, 3). DFS explores one branch deeply before backtracking, which leads to a longer and less efficient path.\n",
        "\n",
        "A* (A-star Search): The solution path was (0, 0) → (4, 0) → (1, 3). A* uses a heuristic to guide the search and found the same optimal path as BFS but with fewer unnecessary explorations.\n",
        "2. Which algorithm gives the shortest path? Why?\n",
        "Both BFS and A* gave the shortest path.\n",
        "BFS guarantees the shortest path because it explores all possibilities level by level and finds the goal at the earliest possible step.\n",
        "A* also found the shortest path because its heuristic function guided the search toward the goal efficiently.\n",
        "DFS did not give the shortest path because it explores deeply without considering the shortest solution, leading to extra steps.\n",
        "\n",
        "3. Which algorithm is more efficient in terms of time and memory?\n",
        "BFS: Time complexity is high since it explores all states level by level. Memory usage is also high because it stores many states in the queue. It is only efficient for small problems.\n",
        "DFS: Memory usage is lower since it uses a stack, but it is not time-efficient. It may take longer to find a solution and often finds a non-optimal path.\n",
        "A*: More efficient than BFS in both time and memory because the heuristic guides the search toward the goal, avoiding unnecessary exploration. It still guarantees the optimal solution."
      ]
    }
  ],
  "metadata": {
    "colab": {
      "provenance": []
    },
    "kernelspec": {
      "display_name": "Python 3",
      "name": "python3"
    },
    "language_info": {
      "name": "python"
    }
  },
  "nbformat": 4,
  "nbformat_minor": 5
}
